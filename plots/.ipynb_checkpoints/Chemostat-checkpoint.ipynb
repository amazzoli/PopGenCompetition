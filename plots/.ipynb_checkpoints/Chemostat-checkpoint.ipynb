{
 "cells": [
  {
   "cell_type": "code",
   "execution_count": 1,
   "metadata": {},
   "outputs": [
    {
     "ename": "ModuleNotFoundError",
     "evalue": "No module named 'utils'",
     "output_type": "error",
     "traceback": [
      "\u001b[0;31m---------------------------------------------------------------------------\u001b[0m",
      "\u001b[0;31mModuleNotFoundError\u001b[0m                       Traceback (most recent call last)",
      "\u001b[0;32m<ipython-input-1-27dcf561fb59>\u001b[0m in \u001b[0;36m<module>\u001b[0;34m\u001b[0m\n\u001b[1;32m      1\u001b[0m \u001b[0;32mimport\u001b[0m \u001b[0mnumpy\u001b[0m \u001b[0;32mas\u001b[0m \u001b[0mnp\u001b[0m\u001b[0;34m\u001b[0m\u001b[0m\n\u001b[1;32m      2\u001b[0m \u001b[0;32mimport\u001b[0m \u001b[0mmatplotlib\u001b[0m\u001b[0;34m.\u001b[0m\u001b[0mpyplot\u001b[0m \u001b[0;32mas\u001b[0m \u001b[0mplt\u001b[0m\u001b[0;34m\u001b[0m\u001b[0m\n\u001b[0;32m----> 3\u001b[0;31m \u001b[0;32mimport\u001b[0m \u001b[0mutils\u001b[0m \u001b[0;32mas\u001b[0m \u001b[0mut\u001b[0m\u001b[0;34m\u001b[0m\u001b[0m\n\u001b[0m",
      "\u001b[0;31mModuleNotFoundError\u001b[0m: No module named 'utils'"
     ]
    }
   ],
   "source": [
    "import numpy as np\n",
    "import matplotlib.pyplot as plt\n",
    "import utils as ut"
   ]
  },
  {
   "cell_type": "code",
   "execution_count": null,
   "metadata": {},
   "outputs": [],
   "source": [
    "def c(g1,g2):\n",
    "    return g1/g2\n",
    "\n",
    "def s(g1,g2,g0):\n",
    "    return g0*(g1-g2)/g1/g2\n",
    "\n",
    "def log_inv_prob_ratio(sM, r, c):\n",
    "    if r != c:\n",
    "        aux1 = sM * (r-1)/(r-c)\n",
    "        aux2 = (sM*r*(c-1)-(1-r*c)*(r-c))/(c-r)**2 * np.log(c/r)\n",
    "        return aux1+aux2\n",
    "    else:\n",
    "        return (sM*(r+1)/2+1-r**2)/r\n",
    "    \n",
    "def log_inv_mut_ratio(sM, r, c):\n",
    "    if r != c:\n",
    "        aux1 = sM * (r-1)/(r-c)\n",
    "        aux2 = (1 + (sM*r*(c-1)-(1-r*c)*(r-c))/(c-r)**2) * np.log(c/r)\n",
    "        return aux1+aux2\n",
    "    else:\n",
    "        return (sM*(r+1)/2+1-r**2)/r"
   ]
  },
  {
   "cell_type": "markdown",
   "metadata": {},
   "source": [
    "### Chemostat constant death rate"
   ]
  },
  {
   "cell_type": "code",
   "execution_count": 3,
   "metadata": {},
   "outputs": [],
   "source": [
    "M = 200\n",
    "g0=0.012\n",
    "g2s = [1]\n",
    "\n",
    "g1s = np.linspace(0.5,4,100)\n",
    "ratios = []\n",
    "for g2 in g2s:\n",
    "    ratios.append([log_inv_mut_ratio( s(g1,g2,g0)*M/g2, 1, c(g1,g2)) for g1 in g1s])"
   ]
  },
  {
   "cell_type": "code",
   "execution_count": 4,
   "metadata": {},
   "outputs": [
    {
     "data": {
      "image/png": "[encoded data removed]",
      "text/plain": [
       "<Figure size 432x288 with 1 Axes>"
      ]
     },
     "metadata": {
      "needs_background": "light"
     },
     "output_type": "display_data"
    }
   ],
   "source": [
    "plt.ylim([-1,1])\n",
    "plt.xlim([0.5,3.5])\n",
    "plt.xlabel(r'$\\gamma$', fontsize=14)\n",
    "plt.ylabel(r'$\\log (p / \\tilde{p})$', fontsize=14)\n",
    "plt.plot(g1s, np.zeros(len(g1s)), c='black', ls='--', lw=2)\n",
    "#plt.plot([np.sqrt(M*g0),np.sqrt(M*g0)],[-1,1])\n",
    "\n",
    "plt.plot(g1s, ratios[0], lw=2, label=r'$\\tilde{gamma}=%3.2f$'%g2s[0])\n",
    "plt.tight_layout()\n",
    "plt.savefig('../plots/log_minv_dconst.png', dpi=200, transparent=True)"
   ]
  },
  {
   "cell_type": "code",
   "execution_count": null,
   "metadata": {},
   "outputs": [],
   "source": []
  },
  {
   "cell_type": "markdown",
   "metadata": {},
   "source": [
    "### Chemostat constant eta"
   ]
  },
  {
   "cell_type": "code",
   "execution_count": 17,
   "metadata": {},
   "outputs": [],
   "source": [
    "M = 200\n",
    "g0=0.015\n",
    "g2s = [np.sqrt(M * g0 / 2)]\n",
    "\n",
    "g1s = np.linspace(0.5,4,100)\n",
    "ratios = []\n",
    "for g2 in g2s:\n",
    "    ratios.append([log_inv_prob_ratio( s(g1,g2,g0)*M/g2, c(g1,g2), c(g1,g2)) for g1 in g1s])"
   ]
  },
  {
   "cell_type": "code",
   "execution_count": 18,
   "metadata": {},
   "outputs": [
    {
     "data": {
      "image/png": "[encoded data removed]",
      "text/plain": [
       "<Figure size 432x288 with 1 Axes>"
      ]
     },
     "metadata": {
      "needs_background": "light"
     },
     "output_type": "display_data"
    }
   ],
   "source": [
    "plt.ylim([-1,1])\n",
    "plt.xlim([0.5,3.5])\n",
    "plt.xlabel(r'$\\gamma$', fontsize=14)\n",
    "plt.ylabel(r'$\\log (p / \\tilde{p})$', fontsize=14)\n",
    "plt.plot(g1s, np.zeros(len(g1s)), c='black', ls='--', lw=2)\n",
    "plt.plot([g2s[0],g2s[0]],[-1,1])\n",
    "z2 = M * g0 / g2s[0] / 2\n",
    "plt.plot([z2,z2],[-1,1])\n",
    "\n",
    "plt.plot(g1s, ratios[0], lw=2, label=r'$\\tilde{gamma}=%3.2f$'%g2s[0])\n",
    "plt.tight_layout()\n",
    "#plt.savefig('../plots/log_minv_dconst.png', dpi=200, transparent=True)"
   ]
  },
  {
   "cell_type": "code",
   "execution_count": null,
   "metadata": {},
   "outputs": [],
   "source": []
  }
 ],
 "metadata": {
  "kernelspec": {
   "display_name": "Python 3",
   "language": "python",
   "name": "python3"
  }
 },
 "nbformat": 4,
 "nbformat_minor": 4
}
