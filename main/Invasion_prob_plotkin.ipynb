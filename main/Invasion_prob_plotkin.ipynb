{
 "cells": [
  {
   "cell_type": "code",
   "execution_count": 1,
   "metadata": {},
   "outputs": [],
   "source": [
    "import numpy as np\n",
    "import matplotlib.pyplot as plt\n",
    "import utils as ut"
   ]
  },
  {
   "cell_type": "markdown",
   "metadata": {},
   "source": [
    "## Analysis of the invasion probability ratio"
   ]
  },
  {
   "cell_type": "code",
   "execution_count": 2,
   "metadata": {},
   "outputs": [],
   "source": [
    "# these two string must be passed during the execution of invasion_prob.exe\n",
    "data_dir = '../data/inv_prob/plotkin/'"
   ]
  },
  {
   "cell_type": "markdown",
   "metadata": {},
   "source": [
    "### Setting the parameters"
   ]
  },
  {
   "cell_type": "code",
   "execution_count": 3,
   "metadata": {},
   "outputs": [],
   "source": [
    "params = dict()\n",
    "\n",
    "# General parameters\n",
    "params['process_type'] = 'plotkin2'\n",
    "params['N_init_cond'] = 1000 # -- Number of trajectories at each threshold\n",
    "params['relax_step'] = 1500 # -- Number of steps for the relaxation of the initial condition\n",
    "params['thresholds'] = [2, 5, 10, 20, 50, 100, 200, 300, 400, 500, 1000, 10000] \n",
    "\n",
    "# Fixed parameters\n",
    "beta1 = 1\n",
    "params['M'] = 400\n",
    "\n",
    "# List of parameters\n",
    "beta2 = np.array([1,2,3,4,5])\n",
    "alphas = [0.5,1/3]\n",
    "\n",
    "params['N_processes'] = len(beta2)*len(alphas)"
   ]
  },
  {
   "cell_type": "markdown",
   "metadata": {},
   "source": [
    "### Writing the params"
   ]
  },
  {
   "cell_type": "code",
   "execution_count": 4,
   "metadata": {},
   "outputs": [
    {
     "ename": "NameError",
     "evalue": "name 'b2' is not defined",
     "output_type": "error",
     "traceback": [
      "\u001b[1;31m---------------------------------------------------------------------------\u001b[0m",
      "\u001b[1;31mNameError\u001b[0m                                 Traceback (most recent call last)",
      "\u001b[1;32m<ipython-input-4-6d9a21d75deb>\u001b[0m in \u001b[0;36m<module>\u001b[1;34m\u001b[0m\n\u001b[0;32m      1\u001b[0m \u001b[0mcount\u001b[0m \u001b[1;33m=\u001b[0m \u001b[1;36m1\u001b[0m\u001b[1;33m\u001b[0m\u001b[1;33m\u001b[0m\u001b[0m\n\u001b[0;32m      2\u001b[0m \u001b[1;32mfor\u001b[0m \u001b[0ma\u001b[0m \u001b[1;32min\u001b[0m \u001b[0malphas\u001b[0m\u001b[1;33m:\u001b[0m\u001b[1;33m\u001b[0m\u001b[1;33m\u001b[0m\u001b[0m\n\u001b[1;32m----> 3\u001b[1;33m     \u001b[0mparams\u001b[0m\u001b[1;33m[\u001b[0m\u001b[1;34m'betas'\u001b[0m\u001b[1;33m]\u001b[0m \u001b[1;33m=\u001b[0m \u001b[1;33m[\u001b[0m\u001b[0mbeta1\u001b[0m\u001b[1;33m,\u001b[0m \u001b[0mb2\u001b[0m\u001b[1;33m]\u001b[0m\u001b[1;33m\u001b[0m\u001b[1;33m\u001b[0m\u001b[0m\n\u001b[0m\u001b[0;32m      4\u001b[0m     \u001b[1;32mfor\u001b[0m \u001b[0mb2\u001b[0m \u001b[1;32min\u001b[0m \u001b[0mbeta2\u001b[0m\u001b[1;33m:\u001b[0m\u001b[1;33m\u001b[0m\u001b[1;33m\u001b[0m\u001b[0m\n\u001b[0;32m      5\u001b[0m         \u001b[0mparams\u001b[0m\u001b[1;33m[\u001b[0m\u001b[1;34m'alpha'\u001b[0m\u001b[1;33m]\u001b[0m \u001b[1;33m=\u001b[0m \u001b[0ma\u001b[0m\u001b[1;33m\u001b[0m\u001b[1;33m\u001b[0m\u001b[0m\n",
      "\u001b[1;31mNameError\u001b[0m: name 'b2' is not defined"
     ]
    }
   ],
   "source": [
    "count = 1\n",
    "for a in alphas:\n",
    "    for b2 in beta2:\n",
    "        params['betas'] = [beta1, b2]\n",
    "        params['alpha'] = a\n",
    "        params['carrying_cap'] = params['M'] * (1/a-1)\n",
    "        ut.write_params(params, data_dir, str(count)+'_param.txt')\n",
    "        params['betas'] = [b2, beta1]\n",
    "        ut.write_params(params, data_dir, str(count)+'sw_param.txt')\n",
    "        count += 1"
   ]
  },
  {
   "cell_type": "markdown",
   "metadata": {},
   "source": [
    "### Importing the results and comparing with theory"
   ]
  },
  {
   "cell_type": "code",
   "execution_count": 4,
   "metadata": {},
   "outputs": [],
   "source": [
    "plot_dir = '../plots/'"
   ]
  },
  {
   "cell_type": "code",
   "execution_count": 7,
   "metadata": {},
   "outputs": [
    {
     "name": "stdout",
     "output_type": "stream",
     "text": [
      "1\n",
      "[1. 5.] 0.5\n",
      "0.00444863\n",
      "[1. 1.] 0.5\n",
      "0.00278404\n",
      "2\n",
      "[1. 1.] 0.5\n",
      "0.00275491\n",
      "[2. 1.] 0.5\n",
      "0.00171676\n",
      "3\n",
      "[2. 1.] 0.5\n",
      "0.00178848\n",
      "[3. 1.] 0.5\n",
      "0.00124954\n",
      "4\n",
      "[3. 1.] 0.5\n",
      "0.00109922\n",
      "[4. 1.] 0.5\n",
      "0.000977154\n",
      "5\n",
      "[4. 1.] 0.5\n",
      "0.00113575\n",
      "[5. 1.] 0.5\n",
      "0.000805552\n",
      "6\n",
      "[1. 5.] 0.3333333333333333\n",
      "0.001957\n",
      "[1. 1.] 0.3333333333333333\n",
      "0.00111884\n",
      "7\n",
      "[1. 1.] 0.3333333333333333\n",
      "0.00117439\n",
      "[2. 1.] 0.3333333333333333\n",
      "0.000805987\n",
      "8\n",
      "[2. 1.] 0.3333333333333333\n",
      "0.000926717\n",
      "[3. 1.] 0.3333333333333333\n",
      "0.000574135\n",
      "9\n",
      "[3. 1.] 0.3333333333333333\n",
      "0.000589576\n",
      "[4. 1.] 0.3333333333333333\n",
      "0.000571352\n",
      "10\n",
      "[4. 1.] 0.3333333333333333\n",
      "0.000578342\n",
      "[5. 1.] 0.3333333333333333\n",
      "0.0003889\n"
     ]
    }
   ],
   "source": [
    "inv_p, inv_p_sw = [], []\n",
    "\n",
    "count = 1\n",
    "for i in range(len(beta2)):\n",
    "    aux_p, aux_p_sw = [], []\n",
    "    for a in range(len(alphas)):\n",
    "        print(count)\n",
    "        p = ut.read_params(data_dir + str(count) + '_param.txt')\n",
    "        print(p['betas'], p['alpha'])\n",
    "        aux_p.append(float(ut.read_inv_p(data_dir + str(count) + '_inv_p.txt')))\n",
    "        print(aux_p[-1])\n",
    "        p = ut.read_params(data_dir + str(count) + 'sw_param.txt')\n",
    "        print(p['betas'], p['alpha'])\n",
    "        aux_p_sw.append(float(ut.read_inv_p(data_dir + str(count) + 'sw_inv_p.txt')))\n",
    "        print(aux_p_sw[-1])\n",
    "        count+=1\n",
    "    inv_p.append(aux_p)\n",
    "    inv_p_sw.append(aux_p_sw)\n",
    "\n",
    "    \n",
    "inv_p = np.array(inv_p)\n",
    "inv_p_sw = np.array(inv_p_sw)"
   ]
  },
  {
   "cell_type": "code",
   "execution_count": 16,
   "metadata": {},
   "outputs": [],
   "source": [
    "inv_p_ratio = inv_p"
   ]
  },
  {
   "cell_type": "code",
   "execution_count": 23,
   "metadata": {},
   "outputs": [],
   "source": [
    "def p_inv(b1, b2, carr_cap):\n",
    "    return 2*b2/(b1+b2)/carr_cap"
   ]
  },
  {
   "cell_type": "code",
   "execution_count": 25,
   "metadata": {},
   "outputs": [
    {
     "data": {
      "text/plain": [
       "[<matplotlib.lines.Line2D at 0x21e5ff1ecc0>]"
      ]
     },
     "execution_count": 25,
     "metadata": {},
     "output_type": "execute_result"
    },
    {
     "data": {
      "image/png": "[encoded data removed]",
      "text/plain": [
       "<Figure size 432x288 with 1 Axes>"
      ]
     },
     "metadata": {
      "needs_background": "light"
     },
     "output_type": "display_data"
    }
   ],
   "source": [
    "plt.scatter(beta2, inv_p[:,1])\n",
    "plt.plot(beta2, p_inv(beta1,beta2,params['M'] * (1/alphas[1]-1)))"
   ]
  },
  {
   "cell_type": "code",
   "execution_count": 48,
   "metadata": {},
   "outputs": [],
   "source": [
    "def plotkin_inv_ratio(b1, b2):\n",
    "    return b2/b1\n",
    "\n",
    "def rogers_inv_ratio(b1, b2):\n",
    "    return np.exp(-(b1/b2-b2/b1))"
   ]
  },
  {
   "cell_type": "code",
   "execution_count": 49,
   "metadata": {},
   "outputs": [
    {
     "data": {
      "text/plain": [
       "[<matplotlib.lines.Line2D at 0x26bb35f17f0>]"
      ]
     },
     "execution_count": 49,
     "metadata": {},
     "output_type": "execute_result"
    },
    {
     "data": {
      "image/png": "[encoded data removed]",
      "text/plain": [
       "<Figure size 432x288 with 1 Axes>"
      ]
     },
     "metadata": {
      "needs_background": "light"
     },
     "output_type": "display_data"
    }
   ],
   "source": [
    "beta2s = np.linspace(1,3,20)\n",
    "plt.plot(beta2s, plotkin_inv_ratio(1, beta2s))\n",
    "plt.plot(beta2s, rogers_inv_ratio(1, beta2s))"
   ]
  },
  {
   "cell_type": "code",
   "execution_count": null,
   "metadata": {},
   "outputs": [],
   "source": []
  }
 ],
 "metadata": {
  "kernelspec": {
   "display_name": "Python 3",
   "language": "python",
   "name": "python3"
  },
  "language_info": {
   "codemirror_mode": {
    "name": "ipython",
    "version": 3
   },
   "file_extension": ".py",
   "mimetype": "text/x-python",
   "name": "python",
   "nbconvert_exporter": "python",
   "pygments_lexer": "ipython3",
   "version": "3.7.3"
  }
 },
 "nbformat": 4,
 "nbformat_minor": 4
}
