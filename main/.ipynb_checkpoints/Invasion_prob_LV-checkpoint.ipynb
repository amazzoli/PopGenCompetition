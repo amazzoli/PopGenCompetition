{
 "cells": [
  {
   "cell_type": "code",
   "execution_count": 1,
   "metadata": {},
   "outputs": [],
   "source": [
    "import numpy as np\n",
    "import matplotlib.pyplot as plt\n",
    "import utils as ut"
   ]
  },
  {
   "cell_type": "code",
   "execution_count": 2,
   "metadata": {},
   "outputs": [],
   "source": [
    "data_dir = '../data/inv_prob/LV/'"
   ]
  },
  {
   "cell_type": "code",
   "execution_count": 11,
   "metadata": {},
   "outputs": [
    {
     "name": "stdout",
     "output_type": "stream",
     "text": [
      "c = 2\n",
      "Mt*s = 1.0000000000000009\n"
     ]
    }
   ],
   "source": [
    "params = dict()\n",
    "params[\"name\"] = \"1_\"\n",
    "\n",
    "# LV parameters\n",
    "params['rhos'] = [1, 1]\n",
    "params['chis'] = [3, 1]\n",
    "params['fs'] = [1.01, 1]\n",
    "params['M'] = 100\n",
    "print(\"c = \" + str(params['chis'][0] - params['chis'][1]))\n",
    "print(\"Mt*s = \" + str((params['fs'][0] - params['fs'][1]) * params['M']/params['chis'][1]))\n",
    "\n",
    "# Gillespie parameters\n",
    "params['time_scale'] = len(params['chis'])*params['M']/np.min(params['chis'])\n",
    "params['N_init_cond'] = 1000\n",
    "params['relax_step'] = 2000\n",
    "params['thresholds'] = [2, 5, 10, 20, 50, 10000]"
   ]
  },
  {
   "cell_type": "code",
   "execution_count": 12,
   "metadata": {},
   "outputs": [],
   "source": [
    "ut.write_params(params, data_dir, params[\"name\"]+'param.txt')"
   ]
  },
  {
   "cell_type": "code",
   "execution_count": null,
   "metadata": {},
   "outputs": [],
   "source": []
  }
 ],
 "metadata": {
  "kernelspec": {
   "display_name": "Python 3",
   "language": "python",
   "name": "python3"
  },
  "language_info": {
   "codemirror_mode": {
    "name": "ipython",
    "version": 3
   },
   "file_extension": ".py",
   "mimetype": "text/x-python",
   "name": "python",
   "nbconvert_exporter": "python",
   "pygments_lexer": "ipython3",
   "version": "3.7.3"
  }
 },
 "nbformat": 4,
 "nbformat_minor": 4
}
