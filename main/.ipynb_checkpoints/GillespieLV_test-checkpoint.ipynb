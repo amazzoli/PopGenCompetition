{
 "cells": [
  {
   "cell_type": "code",
   "execution_count": 1,
   "metadata": {},
   "outputs": [],
   "source": [
    "import numpy as np\n",
    "import matplotlib.pyplot as plt\n",
    "import utils as ut"
   ]
  },
  {
   "cell_type": "code",
   "execution_count": 2,
   "metadata": {},
   "outputs": [],
   "source": [
    "data_dir = '../data/test/LV/'"
   ]
  },
  {
   "cell_type": "code",
   "execution_count": 7,
   "metadata": {},
   "outputs": [],
   "source": [
    "params = dict()\n",
    "\n",
    "# LV parameters\n",
    "params['rhos'] = [1, 1]\n",
    "params['chis'] = [1, 2]\n",
    "params['fs'] = [2, 1]\n",
    "params['M'] = 5000\n",
    "\n",
    "# Gillespie parameters\n",
    "params['stop_at_fix'] = 'false'\n",
    "params['max_steps'] = 200000\n",
    "params['traj_step'] = 100\n",
    "params['init_state'] = [100, 5000]"
   ]
  },
  {
   "cell_type": "code",
   "execution_count": 8,
   "metadata": {},
   "outputs": [],
   "source": [
    "ut.write_params(params, data_dir, 'param.txt')"
   ]
  },
  {
   "cell_type": "code",
   "execution_count": 23,
   "metadata": {},
   "outputs": [],
   "source": [
    "traj, labels = ut.read_traj(data_dir+'traj.txt')\n",
    "av_traj, labels = ut.read_traj(data_dir+'moment_1.00.txt')\n",
    "m2_traj, labels = ut.read_traj(data_dir+'moment_2.00.txt')\n",
    "xs = traj[:,0]\n",
    "n0s = traj[:,1]\n",
    "n1s = traj[:,2]\n",
    "av_xs = av_traj[:,0]\n",
    "av_n0s = av_traj[:,1]\n",
    "av_n1s = av_traj[:,2]\n",
    "m2_n0s = m2_traj[:,1]\n",
    "m2_n1s = m2_traj[:,2]"
   ]
  },
  {
   "cell_type": "code",
   "execution_count": 25,
   "metadata": {},
   "outputs": [
    {
     "data": {
      "text/plain": [
       "<matplotlib.collections.PolyCollection at 0x1b2f11d0a90>"
      ]
     },
     "execution_count": 25,
     "metadata": {},
     "output_type": "execute_result"
    },
    {
     "data": {
      "image/png": "[encoded data removed]",
      "text/plain": [
       "<Figure size 432x288 with 1 Axes>"
      ]
     },
     "metadata": {
      "needs_background": "light"
     },
     "output_type": "display_data"
    }
   ],
   "source": [
    "plt.plot(xs, n0s)\n",
    "plt.plot(xs, n1s)\n",
    "plt.plot(av_xs, av_n0s, c='black', ls='--')\n",
    "plt.plot(av_xs, av_n1s, c='black', ls='--')\n",
    "plt.fill_between(av_xs, np.sqrt(m2_n0s - av_n0s**2) + av_n0s)\n",
    "#plt.fill_between(av_xs, av_n1s, c='black', ls='--')"
   ]
  },
  {
   "cell_type": "code",
   "execution_count": 20,
   "metadata": {},
   "outputs": [
    {
     "data": {
      "text/plain": [
       "array([-9.89403090e+03, -9.79481090e+03, -9.72368210e+03, ...,\n",
       "       -2.48617913e+07, -2.48563068e+07, -2.48665782e+07])"
      ]
     },
     "execution_count": 20,
     "metadata": {},
     "output_type": "execute_result"
    }
   ],
   "source": [
    "m2_n0s - av_n0s**2"
   ]
  },
  {
   "cell_type": "code",
   "execution_count": 21,
   "metadata": {},
   "outputs": [
    {
     "data": {
      "text/plain": [
       "array([  99.97,   99.47,   99.11, ..., 4986.66, 4986.11, 4987.14])"
      ]
     },
     "execution_count": 21,
     "metadata": {},
     "output_type": "execute_result"
    }
   ],
   "source": [
    "m2_n0s"
   ]
  },
  {
   "cell_type": "code",
   "execution_count": 22,
   "metadata": {},
   "outputs": [
    {
     "data": {
      "text/plain": [
       "array([  99.97,   99.47,   99.11, ..., 4986.66, 4986.11, 4987.14])"
      ]
     },
     "execution_count": 22,
     "metadata": {},
     "output_type": "execute_result"
    }
   ],
   "source": [
    "av_n0s"
   ]
  },
  {
   "cell_type": "code",
   "execution_count": null,
   "metadata": {},
   "outputs": [],
   "source": []
  }
 ],
 "metadata": {
  "kernelspec": {
   "display_name": "Python 3",
   "language": "python",
   "name": "python3"
  },
  "language_info": {
   "codemirror_mode": {
    "name": "ipython",
    "version": 3
   },
   "file_extension": ".py",
   "mimetype": "text/x-python",
   "name": "python",
   "nbconvert_exporter": "python",
   "pygments_lexer": "ipython3",
   "version": "3.7.3"
  }
 },
 "nbformat": 4,
 "nbformat_minor": 4
}
