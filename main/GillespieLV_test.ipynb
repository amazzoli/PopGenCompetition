{
 "cells": [
  {
   "cell_type": "code",
   "execution_count": 2,
   "metadata": {},
   "outputs": [],
   "source": [
    "import numpy as np\n",
    "import matplotlib.pyplot as plt\n",
    "import utils as ut"
   ]
  },
  {
   "cell_type": "markdown",
   "metadata": {},
   "source": [
    "## Test for the Gillespie algorithm"
   ]
  },
  {
   "cell_type": "code",
   "execution_count": 3,
   "metadata": {},
   "outputs": [],
   "source": [
    "# this string must be passed during the execution of gillespie_test.exe\n",
    "data_dir = '../data/test/LV/'"
   ]
  },
  {
   "cell_type": "markdown",
   "metadata": {},
   "source": [
    "### Setting the parameters"
   ]
  },
  {
   "cell_type": "code",
   "execution_count": 9,
   "metadata": {},
   "outputs": [
    {
     "name": "stdout",
     "output_type": "stream",
     "text": [
      "c = 2\n",
      "Mt*s = 1.0000000000000009\n"
     ]
    }
   ],
   "source": [
    "params = dict()\n",
    "\n",
    "# LV parameters\n",
    "params['rhos'] = [1, 1]\n",
    "params['chis'] = [3, 1]\n",
    "params['fs'] = [1.002, 1]\n",
    "params['M'] = 500\n",
    "print(\"c = \" + str(params['chis'][0] - params['chis'][1]))\n",
    "print(\"Mt*s = \" + str((params['fs'][0] - params['fs'][1]) * params['M']/params['chis'][1]))\n",
    "\n",
    "# Gillespie parameters\n",
    "params['time_scale'] = len(params['chis'])*params['M']/np.min(params['chis'])\n",
    "params['end_cond'] = 'time'\n",
    "params['max_steps'] = 5000\n",
    "#params['end_cond'] = 'passage'\n",
    "#params['up_bounds'] = [2000,2000]\n",
    "#params['low_bounds'] = [0,0]\n",
    "params['traj_step'] = 1\n",
    "params['init_state'] = [0, params['M']/params['chis'][1]] # Initial condition\n",
    "params['N_real'] = 5000"
   ]
  },
  {
   "cell_type": "code",
   "execution_count": 10,
   "metadata": {},
   "outputs": [],
   "source": [
    "ut.write_params(params, data_dir, 'param.txt')"
   ]
  },
  {
   "cell_type": "markdown",
   "metadata": {},
   "source": [
    "### Importing and analysing the results"
   ]
  },
  {
   "cell_type": "code",
   "execution_count": 11,
   "metadata": {},
   "outputs": [],
   "source": [
    "traj, labels = ut.read_traj(data_dir+'traj.txt')\n",
    "av_traj, labels = ut.read_traj(data_dir+'moment_1.00.txt')\n",
    "m2_traj, labels = ut.read_traj(data_dir+'moment_2.00.txt')\n",
    "xs = traj[:,0]\n",
    "n0s = traj[:,1]\n",
    "n1s = traj[:,2]\n",
    "av_xs = av_traj[:,0]\n",
    "av_n0s = av_traj[:,2]\n",
    "av_n1s = av_traj[:,3]\n",
    "m2_n0s = m2_traj[:,2]\n",
    "m2_n1s = m2_traj[:,3]"
   ]
  },
  {
   "cell_type": "code",
   "execution_count": 12,
   "metadata": {},
   "outputs": [
    {
     "data": {
      "text/plain": [
       "<matplotlib.collections.PolyCollection at 0x15909d9b780>"
      ]
     },
     "execution_count": 12,
     "metadata": {},
     "output_type": "execute_result"
    },
    {
     "data": {
      "image/png": "[encoded data removed]",
      "text/plain": [
       "<Figure size 432x288 with 1 Axes>"
      ]
     },
     "metadata": {
      "needs_background": "light"
     },
     "output_type": "display_data"
    }
   ],
   "source": [
    "plt.plot(av_xs, av_n0s, c='black', ls='--')\n",
    "plt.plot(av_xs, av_n1s, c='black', ls='--')\n",
    "std = np.sqrt(m2_n0s - av_n0s**2)\n",
    "plt.fill_between(av_xs, av_n0s - std, av_n0s + std)\n",
    "std = np.sqrt(m2_n1s[1:] - av_n1s[1:]**2)\n",
    "plt.fill_between(av_xs[1:], av_n1s[1:] - std, av_n1s[1:] + std)\n",
    "#plt.fill_between(av_xs, av_n1s, c='black', ls='--')"
   ]
  },
  {
   "cell_type": "code",
   "execution_count": 13,
   "metadata": {},
   "outputs": [
    {
     "data": {
      "text/plain": [
       "[<matplotlib.lines.Line2D at 0x15909e14b70>]"
      ]
     },
     "execution_count": 13,
     "metadata": {},
     "output_type": "execute_result"
    },
    {
     "data": {
      "image/png": "[encoded data removed]",
      "text/plain": [
       "<Figure size 432x288 with 1 Axes>"
      ]
     },
     "metadata": {
      "needs_background": "light"
     },
     "output_type": "display_data"
    }
   ],
   "source": [
    "plt.plot(av_xs[1:], np.sqrt(m2_n1s[1:] - av_n1s[1:]**2))"
   ]
  },
  {
   "cell_type": "code",
   "execution_count": 51,
   "metadata": {},
   "outputs": [
    {
     "data": {
      "text/plain": [
       "array([[3.31495e-01, 1.00000e+01, 1.00100e+03],\n",
       "       [4.09889e-01, 1.00000e+01, 1.00200e+03],\n",
       "       [1.87358e+00, 1.00000e+01, 1.00100e+03],\n",
       "       ...,\n",
       "       [2.71763e+03, 3.00000e+00, 8.01000e+02],\n",
       "       [2.71772e+03, 3.00000e+00, 8.00000e+02],\n",
       "       [2.72048e+03, 3.00000e+00, 7.99000e+02]])"
      ]
     },
     "execution_count": 51,
     "metadata": {},
     "output_type": "execute_result"
    }
   ],
   "source": [
    "traj"
   ]
  },
  {
   "cell_type": "code",
   "execution_count": 38,
   "metadata": {},
   "outputs": [
    {
     "data": {
      "text/plain": [
       "array([   2.4918,  691.105 , 1350.09  ])"
      ]
     },
     "execution_count": 38,
     "metadata": {},
     "output_type": "execute_result"
    }
   ],
   "source": [
    "av_xs"
   ]
  },
  {
   "cell_type": "code",
   "execution_count": 40,
   "metadata": {},
   "outputs": [
    {
     "data": {
      "text/plain": [
       "array([[2.49180e+00,         nan, 1.00000e+01, 9.99000e+02],\n",
       "       [6.91105e+02,         nan, 1.20000e+01, 9.11000e+02],\n",
       "       [1.35009e+03, 1.01377e-05, 1.10000e+01, 8.54000e+02]])"
      ]
     },
     "execution_count": 40,
     "metadata": {},
     "output_type": "execute_result"
    }
   ],
   "source": [
    "av_traj"
   ]
  },
  {
   "cell_type": "code",
   "execution_count": 67,
   "metadata": {},
   "outputs": [
    {
     "data": {
      "text/plain": [
       "3998667.0"
      ]
     },
     "execution_count": 67,
     "metadata": {},
     "output_type": "execute_result"
    }
   ],
   "source": [
    "(1999**2+2000**2+2000**2)/3"
   ]
  },
  {
   "cell_type": "code",
   "execution_count": null,
   "metadata": {},
   "outputs": [],
   "source": []
  }
 ],
 "metadata": {
  "kernelspec": {
   "display_name": "Python 3",
   "language": "python",
   "name": "python3"
  },
  "language_info": {
   "codemirror_mode": {
    "name": "ipython",
    "version": 3
   },
   "file_extension": ".py",
   "mimetype": "text/x-python",
   "name": "python",
   "nbconvert_exporter": "python",
   "pygments_lexer": "ipython3",
   "version": "3.7.3"
  }
 },
 "nbformat": 4,
 "nbformat_minor": 4
}
