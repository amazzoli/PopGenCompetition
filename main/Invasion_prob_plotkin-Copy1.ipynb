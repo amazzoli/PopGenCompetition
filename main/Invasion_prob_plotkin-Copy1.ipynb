{
 "cells": [
  {
   "cell_type": "code",
   "execution_count": 1,
   "metadata": {},
   "outputs": [],
   "source": [
    "import numpy as np\n",
    "import matplotlib.pyplot as plt\n",
    "import utils as ut"
   ]
  },
  {
   "cell_type": "markdown",
   "metadata": {},
   "source": [
    "## Analysis of the invasion probability ratio"
   ]
  },
  {
   "cell_type": "code",
   "execution_count": 2,
   "metadata": {},
   "outputs": [],
   "source": [
    "# these two string must be passed during the execution of invasion_prob.exe\n",
    "data_dir = '../data/inv_prob/plotkin2/'"
   ]
  },
  {
   "cell_type": "markdown",
   "metadata": {},
   "source": [
    "### Setting the parameters"
   ]
  },
  {
   "cell_type": "code",
   "execution_count": 4,
   "metadata": {},
   "outputs": [],
   "source": [
    "params = dict()\n",
    "\n",
    "# General parameters\n",
    "params['process_type'] = 'plotkin2'\n",
    "params['N_init_cond'] = 1000 # -- Number of trajectories at each threshold\n",
    "params['relax_step'] = 1500 # -- Number of steps for the relaxation of the initial condition\n",
    "params['thresholds'] = [2, 5, 10, 20, 50, 100, 200, 300, 400, 500, 1000, 10000] \n",
    "\n",
    "# Fixed parameters\n",
    "beta1 = 1\n",
    "params['M'] = 400\n",
    "\n",
    "# List of parameters\n",
    "beta2 = np.array([1,2,3,4,5])\n",
    "alphas = [1/3]\n",
    "\n",
    "params['N_processes'] = len(beta2)*len(alphas)"
   ]
  },
  {
   "cell_type": "markdown",
   "metadata": {},
   "source": [
    "### Writing the params"
   ]
  },
  {
   "cell_type": "code",
   "execution_count": 10,
   "metadata": {},
   "outputs": [],
   "source": [
    "count = 1\n",
    "for a in alphas:\n",
    "    for b2 in beta2:\n",
    "        params['betas'] = [beta1, b2]\n",
    "        params['alpha'] = a\n",
    "        params['carrying_cap'] = params['M'] * (1/a-1)\n",
    "        ut.write_params(params, data_dir, str(count)+'_param.txt')\n",
    "        params['betas'] = [b2, beta1]\n",
    "        ut.write_params(params, data_dir, str(count)+'sw_param.txt')\n",
    "        count += 1"
   ]
  },
  {
   "cell_type": "markdown",
   "metadata": {},
   "source": [
    "### Importing the results and comparing with theory"
   ]
  },
  {
   "cell_type": "code",
   "execution_count": 5,
   "metadata": {},
   "outputs": [],
   "source": [
    "plot_dir = '../plots/'"
   ]
  },
  {
   "cell_type": "code",
   "execution_count": 10,
   "metadata": {},
   "outputs": [
    {
     "name": "stdout",
     "output_type": "stream",
     "text": [
      "1\n",
      "[1. 1.] 0.3333333333333333\n",
      "0.00139547\n",
      "[1. 1.] 0.3333333333333333\n",
      "0.00117252\n",
      "2\n",
      "[1. 2.] 0.3333333333333333\n",
      "0.00154096\n",
      "[2. 1.] 0.3333333333333333\n",
      "0.000908772\n",
      "3\n",
      "[1. 3.] 0.3333333333333333\n",
      "0.00219319\n",
      "[3. 1.] 0.3333333333333333\n",
      "0.000639459\n",
      "4\n",
      "[1. 4.] 0.3333333333333333\n",
      "0.00238572\n",
      "[4. 1.] 0.3333333333333333\n",
      "0.000529552\n",
      "5\n",
      "[1. 5.] 0.3333333333333333\n",
      "0.00208759\n",
      "[5. 1.] 0.3333333333333333\n",
      "0.000451037\n"
     ]
    }
   ],
   "source": [
    "inv_p, inv_p_sw = [], []\n",
    "\n",
    "count = 1\n",
    "for i in range(len(beta2)):\n",
    "    aux_p, aux_p_sw = [], []\n",
    "    for a in range(len(alphas)):\n",
    "        print(count)\n",
    "        p = ut.read_params(data_dir + str(count) + '_param.txt')\n",
    "        print(p['betas'], p['alpha'])\n",
    "        aux_p.append(float(ut.read_inv_p(data_dir + str(count) + '_inv_p.txt')))\n",
    "        print(aux_p[-1])\n",
    "        p = ut.read_params(data_dir + str(count) + 'sw_param.txt')\n",
    "        print(p['betas'], p['alpha'])\n",
    "        aux_p_sw.append(float(ut.read_inv_p(data_dir + str(count) + 'sw_inv_p.txt')))\n",
    "        print(aux_p_sw[-1])\n",
    "        count+=1\n",
    "    inv_p.append(aux_p)\n",
    "    inv_p_sw.append(aux_p_sw)\n",
    "\n",
    "    \n",
    "inv_p = np.array(inv_p)\n",
    "inv_p_sw = np.array(inv_p_sw)"
   ]
  },
  {
   "cell_type": "code",
   "execution_count": 11,
   "metadata": {},
   "outputs": [],
   "source": [
    "inv_p_ratio = inv_p/inv_p_sw"
   ]
  },
  {
   "cell_type": "code",
   "execution_count": 14,
   "metadata": {},
   "outputs": [],
   "source": [
    "def p_inv(b1, b2, carr_cap):\n",
    "    return 2*b2/(b1+b2)/carr_cap\n",
    "\n",
    "def p_inv_ratio(b1, b2):\n",
    "    return b2/b1"
   ]
  },
  {
   "cell_type": "code",
   "execution_count": 17,
   "metadata": {},
   "outputs": [
    {
     "data": {
      "text/plain": [
       "[<matplotlib.lines.Line2D at 0x1f3ebcbbd68>]"
      ]
     },
     "execution_count": 17,
     "metadata": {},
     "output_type": "execute_result"
    },
    {
     "data": {
      "image/png": "[encoded data removed]",
      "text/plain": [
       "<Figure size 432x288 with 1 Axes>"
      ]
     },
     "metadata": {
      "needs_background": "light"
     },
     "output_type": "display_data"
    }
   ],
   "source": [
    "plt.scatter(beta2, inv_p_ratio)\n",
    "plt.plot(beta2, p_inv_ratio(beta1,beta2))"
   ]
  },
  {
   "cell_type": "code",
   "execution_count": null,
   "metadata": {},
   "outputs": [],
   "source": []
  },
  {
   "cell_type": "code",
   "execution_count": 48,
   "metadata": {},
   "outputs": [],
   "source": [
    "def plotkin_inv_ratio(b1, b2):\n",
    "    return b2/b1\n",
    "\n",
    "def rogers_inv_ratio(b1, b2):\n",
    "    return np.exp(-(b1/b2-b2/b1))"
   ]
  },
  {
   "cell_type": "code",
   "execution_count": 49,
   "metadata": {},
   "outputs": [
    {
     "data": {
      "text/plain": [
       "[<matplotlib.lines.Line2D at 0x26bb35f17f0>]"
      ]
     },
     "execution_count": 49,
     "metadata": {},
     "output_type": "execute_result"
    },
    {
     "data": {
      "image/png": "[encoded data removed]",
      "text/plain": [
       "<Figure size 432x288 with 1 Axes>"
      ]
     },
     "metadata": {
      "needs_background": "light"
     },
     "output_type": "display_data"
    }
   ],
   "source": [
    "beta2s = np.linspace(1,3,20)\n",
    "plt.plot(beta2s, plotkin_inv_ratio(1, beta2s))\n",
    "plt.plot(beta2s, rogers_inv_ratio(1, beta2s))"
   ]
  },
  {
   "cell_type": "code",
   "execution_count": null,
   "metadata": {},
   "outputs": [],
   "source": []
  }
 ],
 "metadata": {
  "kernelspec": {
   "display_name": "Python 3",
   "language": "python",
   "name": "python3"
  },
  "language_info": {
   "codemirror_mode": {
    "name": "ipython",
    "version": 3
   },
   "file_extension": ".py",
   "mimetype": "text/x-python",
   "name": "python",
   "nbconvert_exporter": "python",
   "pygments_lexer": "ipython3",
   "version": "3.7.3"
  }
 },
 "nbformat": 4,
 "nbformat_minor": 4
}
